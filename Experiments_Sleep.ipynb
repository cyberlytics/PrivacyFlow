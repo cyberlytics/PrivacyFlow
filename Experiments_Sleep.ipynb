{
 "cells": [
  {
   "cell_type": "code",
   "execution_count": 1,
   "metadata": {
    "collapsed": true,
    "ExecuteTime": {
     "start_time": "2023-07-30T15:40:11.975201Z",
     "end_time": "2023-07-30T15:40:13.488747Z"
    }
   },
   "outputs": [],
   "source": [
    "import torch\n",
    "torch.manual_seed(42)\n",
    "from torch import nn\n",
    "from torch.utils.data import DataLoader,Dataset"
   ]
  },
  {
   "cell_type": "code",
   "execution_count": 2,
   "outputs": [],
   "source": [
    "from privacyflow.configs import path_configs\n",
    "from privacyflow.datasets import sleep_dataset\n",
    "from privacyflow.preprocessing import sleep_preprocess\n",
    "from privacyflow.models import sleep_model_base"
   ],
   "metadata": {
    "collapsed": false,
    "ExecuteTime": {
     "start_time": "2023-07-30T15:40:13.489747Z",
     "end_time": "2023-07-30T15:40:14.232846Z"
    }
   }
  },
  {
   "cell_type": "code",
   "execution_count": 3,
   "outputs": [
    {
     "name": "stdout",
     "output_type": "stream",
     "text": [
      "GPU will be used\n"
     ]
    }
   ],
   "source": [
    "#Check if GPU is available\n",
    "if torch.cuda.is_available():\n",
    "    print(\"GPU will be used\")\n",
    "    device = torch.device('cuda')\n",
    "else:\n",
    "    print(\"No GPU available\")\n",
    "    device = torch.device('cpu')"
   ],
   "metadata": {
    "collapsed": false,
    "ExecuteTime": {
     "start_time": "2023-07-30T15:40:14.234846Z",
     "end_time": "2023-07-30T15:40:14.294843Z"
    }
   }
  },
  {
   "cell_type": "markdown",
   "source": [
    "## Data Prep"
   ],
   "metadata": {
    "collapsed": false
   }
  },
  {
   "cell_type": "markdown",
   "source": [
    "Der Sleep-Datensatz ist eine einzelne .csv Datei. Diese wird mittels einer Preprocessing-Methode bereinigt und in Train-Val-Test gesplittet.\n",
    "Diese können anschließend als PyTorch Dataset genutzt werden."
   ],
   "metadata": {
    "collapsed": false
   }
  },
  {
   "cell_type": "code",
   "execution_count": 4,
   "outputs": [],
   "source": [
    "sleep_preprocess.preprocess_sleep_data()"
   ],
   "metadata": {
    "collapsed": false,
    "ExecuteTime": {
     "start_time": "2023-07-30T15:40:14.266845Z",
     "end_time": "2023-07-30T15:40:14.313846Z"
    }
   }
  },
  {
   "cell_type": "code",
   "execution_count": 5,
   "outputs": [],
   "source": [
    "train_dataset = sleep_dataset.SleepDataset(mode=\"train\")\n",
    "train_dataloader = DataLoader(\n",
    "    dataset=train_dataset,\n",
    "    batch_size=32,\n",
    "    shuffle=True\n",
    ")\n",
    "\n",
    "val_dataset = sleep_dataset.SleepDataset(mode=\"val\")\n",
    "val_dataloader = DataLoader(\n",
    "    dataset=val_dataset,\n",
    "    batch_size=32,\n",
    "    shuffle=False\n",
    ")\n",
    "\n",
    "test_dataset = sleep_dataset.SleepDataset(mode=\"test\")\n",
    "test_dataloader = DataLoader(\n",
    "    dataset=test_dataset,\n",
    "    batch_size=32,\n",
    "    shuffle=False\n",
    ")"
   ],
   "metadata": {
    "collapsed": false,
    "ExecuteTime": {
     "start_time": "2023-07-30T15:40:14.299848Z",
     "end_time": "2023-07-30T15:40:14.334845Z"
    }
   }
  },
  {
   "cell_type": "markdown",
   "source": [
    "## Model"
   ],
   "metadata": {
    "collapsed": false
   }
  },
  {
   "cell_type": "code",
   "execution_count": 6,
   "outputs": [],
   "source": [
    "model = sleep_model_base.SleepModelBase(12,3)\n",
    "model = model.to(device)"
   ],
   "metadata": {
    "collapsed": false,
    "ExecuteTime": {
     "start_time": "2023-07-30T15:40:14.329849Z",
     "end_time": "2023-07-30T15:40:14.440897Z"
    }
   }
  },
  {
   "cell_type": "markdown",
   "source": [
    "## Training"
   ],
   "metadata": {
    "collapsed": false
   }
  },
  {
   "cell_type": "code",
   "execution_count": 7,
   "outputs": [],
   "source": [
    "criterion = nn.CrossEntropyLoss()\n",
    "optimizer = torch.optim.SGD(model.parameters(), lr = 0.01, momentum=0.9)"
   ],
   "metadata": {
    "collapsed": false,
    "ExecuteTime": {
     "start_time": "2023-07-30T15:40:14.441898Z",
     "end_time": "2023-07-30T15:40:14.455897Z"
    }
   }
  },
  {
   "cell_type": "code",
   "execution_count": 11,
   "outputs": [
    {
     "name": "stdout",
     "output_type": "stream",
     "text": [
      "Epoch: 1, Train Loss:0.6849068254232407, Val Loss:0.8670949637889862\n",
      "Epoch: 2, Train Loss:0.632809916138649, Val Loss:0.8294864892959595\n",
      "Epoch: 3, Train Loss:0.5712380111217499, Val Loss:0.6637380421161652\n",
      "Epoch: 4, Train Loss:0.5942749053239822, Val Loss:0.8508903384208679\n",
      "Epoch: 5, Train Loss:0.6161019146442414, Val Loss:0.5757983922958374\n",
      "Epoch: 6, Train Loss:0.7206846237182617, Val Loss:0.9786092042922974\n",
      "Epoch: 7, Train Loss:0.697091567516327, Val Loss:0.8197578489780426\n",
      "Epoch: 8, Train Loss:0.6325776875019073, Val Loss:0.6183421611785889\n",
      "Epoch: 9, Train Loss:0.6211926579475403, Val Loss:0.8949172496795654\n",
      "Epoch: 10, Train Loss:0.6117232412099838, Val Loss:0.6472404301166534\n",
      "Epoch: 11, Train Loss:0.6231926083564758, Val Loss:1.1291579008102417\n",
      "Epoch: 12, Train Loss:0.7767252922058105, Val Loss:1.1961228847503662\n"
     ]
    }
   ],
   "source": [
    "for epoch in range(12):\n",
    "    model.train()\n",
    "    epoch_loss = 0.0\n",
    "    for batch in train_dataloader:\n",
    "        inputs,labels = batch\n",
    "        inputs = inputs.to(device)\n",
    "        labels = labels.to(device)\n",
    "\n",
    "        optimizer.zero_grad()\n",
    "\n",
    "        outputs = model(inputs)\n",
    "        loss = criterion(outputs,labels)\n",
    "        loss.backward()\n",
    "        optimizer.step()\n",
    "\n",
    "        epoch_loss += loss.item()\n",
    "\n",
    "    model.eval()\n",
    "    val_loss = 0.0\n",
    "    for batch in val_dataloader:\n",
    "        inputs,labels = batch\n",
    "        inputs = inputs.to(device)\n",
    "        labels = labels.to(device)\n",
    "        outputs = model(inputs)\n",
    "        loss = criterion(outputs,labels)\n",
    "        val_loss += loss.item()\n",
    "\n",
    "    print(f\"Epoch: {epoch+1}, Train Loss:{epoch_loss/len(train_dataloader)}, Val Loss:{val_loss/len(val_dataloader)}\")\n"
   ],
   "metadata": {
    "collapsed": false,
    "ExecuteTime": {
     "start_time": "2023-07-30T15:40:30.411263Z",
     "end_time": "2023-07-30T15:40:30.960264Z"
    }
   }
  },
  {
   "cell_type": "code",
   "execution_count": 12,
   "outputs": [
    {
     "name": "stdout",
     "output_type": "stream",
     "text": [
      "tensor(0.7105, device='cuda:0')\n"
     ]
    }
   ],
   "source": [
    "num_correct = 0.0\n",
    "model.eval()\n",
    "for batch in test_dataloader:\n",
    "    inputs,labels = batch\n",
    "    inputs = inputs.to(device)\n",
    "    labels = labels.to(device)\n",
    "\n",
    "    outputs = model(inputs)\n",
    "    _, predicted = torch.max(outputs,1)\n",
    "    num_correct += (predicted == labels).sum()\n",
    "\n",
    "accuracy = num_correct/len(test_dataset)\n",
    "print(accuracy)"
   ],
   "metadata": {
    "collapsed": false,
    "ExecuteTime": {
     "start_time": "2023-07-30T15:40:32.660658Z",
     "end_time": "2023-07-30T15:40:32.683657Z"
    }
   }
  },
  {
   "cell_type": "code",
   "execution_count": 9,
   "outputs": [],
   "source": [],
   "metadata": {
    "collapsed": false,
    "ExecuteTime": {
     "start_time": "2023-07-30T15:40:16.674900Z",
     "end_time": "2023-07-30T15:40:16.720896Z"
    }
   }
  }
 ],
 "metadata": {
  "kernelspec": {
   "display_name": "Python 3",
   "language": "python",
   "name": "python3"
  },
  "language_info": {
   "codemirror_mode": {
    "name": "ipython",
    "version": 2
   },
   "file_extension": ".py",
   "mimetype": "text/x-python",
   "name": "python",
   "nbconvert_exporter": "python",
   "pygments_lexer": "ipython2",
   "version": "2.7.6"
  }
 },
 "nbformat": 4,
 "nbformat_minor": 0
}
