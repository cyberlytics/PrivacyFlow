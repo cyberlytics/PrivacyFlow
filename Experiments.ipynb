{
 "cells": [
  {
   "cell_type": "code",
   "execution_count": 1,
   "metadata": {
    "collapsed": true,
    "ExecuteTime": {
     "start_time": "2023-07-24T18:59:14.219162Z",
     "end_time": "2023-07-24T18:59:16.843290Z"
    }
   },
   "outputs": [],
   "source": [
    "import matplotlib.pyplot as plt\n",
    "\n",
    "\n",
    "import torch\n",
    "import torch.nn as nn\n",
    "import torchvision\n",
    "from torch.utils.data import Dataset\n",
    "from torch.utils.data import DataLoader"
   ]
  },
  {
   "cell_type": "code",
   "execution_count": 2,
   "outputs": [],
   "source": [
    "#Own Code\n",
    "from privacyflow.datasets import faces_dataset"
   ],
   "metadata": {
    "collapsed": false,
    "ExecuteTime": {
     "start_time": "2023-07-24T18:59:16.844287Z",
     "end_time": "2023-07-24T18:59:16.856286Z"
    }
   }
  },
  {
   "cell_type": "code",
   "execution_count": 3,
   "outputs": [
    {
     "name": "stdout",
     "output_type": "stream",
     "text": [
      "No GPU available\n"
     ]
    }
   ],
   "source": [
    "#Check if GPU is available\n",
    "if torch.cuda.is_available():\n",
    "    print(\"GPU will be used\")\n",
    "    device = torch.device('cuda')\n",
    "else:\n",
    "    print(\"No GPU available\")\n",
    "    device = torch.device('cpu')"
   ],
   "metadata": {
    "collapsed": false,
    "ExecuteTime": {
     "start_time": "2023-07-24T18:59:16.859286Z",
     "end_time": "2023-07-24T18:59:16.916288Z"
    }
   }
  },
  {
   "cell_type": "code",
   "execution_count": 4,
   "outputs": [],
   "source": [
    "train_data = faces_dataset.FacesDataset(mode = \"train\")\n"
   ],
   "metadata": {
    "collapsed": false,
    "ExecuteTime": {
     "start_time": "2023-07-24T18:59:16.876286Z",
     "end_time": "2023-07-24T18:59:16.917286Z"
    }
   }
  },
  {
   "cell_type": "code",
   "execution_count": 10,
   "outputs": [],
   "source": [
    "img = train_data[0]\n",
    "torchvision.transforms.ToPILImage()(img).show()"
   ],
   "metadata": {
    "collapsed": false,
    "ExecuteTime": {
     "start_time": "2023-07-24T19:00:56.573051Z",
     "end_time": "2023-07-24T19:01:00.012509Z"
    }
   }
  },
  {
   "cell_type": "code",
   "execution_count": 17,
   "outputs": [
    {
     "data": {
      "text/plain": "torch.Size([3, 218, 178])"
     },
     "execution_count": 17,
     "metadata": {},
     "output_type": "execute_result"
    }
   ],
   "source": [
    "img.shape"
   ],
   "metadata": {
    "collapsed": false,
    "ExecuteTime": {
     "start_time": "2023-07-24T19:03:01.437731Z",
     "end_time": "2023-07-24T19:03:01.454729Z"
    }
   }
  },
  {
   "cell_type": "code",
   "execution_count": 16,
   "outputs": [
    {
     "data": {
      "text/plain": "tensor([[[253, 253, 253,  ..., 247, 254, 254],\n         [253, 253, 253,  ..., 249, 254, 254],\n         [253, 253, 253,  ..., 250, 255, 255],\n         ...,\n         [140, 116, 146,  ..., 122, 122, 122],\n         [130, 138, 166,  ..., 118, 118, 118],\n         [168, 204, 245,  ..., 118, 120, 120]],\n\n        [[231, 231, 231,  ..., 226, 238, 238],\n         [231, 231, 231,  ..., 228, 238, 238],\n         [231, 231, 231,  ..., 231, 239, 239],\n         ...,\n         [ 74,  48,  78,  ...,  55,  56,  56],\n         [ 62,  70,  98,  ...,  49,  51,  51],\n         [100, 136, 177,  ...,  49,  50,  50]],\n\n        [[194, 194, 194,  ..., 225, 222, 222],\n         [194, 194, 194,  ..., 225, 222, 222],\n         [194, 194, 194,  ..., 227, 223, 223],\n         ...,\n         [ 26,   1,  33,  ...,  28,  30,  30],\n         [ 15,  23,  53,  ...,  20,  24,  24],\n         [ 53,  89, 132,  ...,  20,  24,  24]]], dtype=torch.uint8)"
     },
     "execution_count": 16,
     "metadata": {},
     "output_type": "execute_result"
    }
   ],
   "source": [
    "img"
   ],
   "metadata": {
    "collapsed": false,
    "ExecuteTime": {
     "start_time": "2023-07-24T19:02:40.153931Z",
     "end_time": "2023-07-24T19:02:40.163876Z"
    }
   }
  },
  {
   "cell_type": "code",
   "execution_count": 20,
   "outputs": [],
   "source": [
    "test = torch.empty(3,4,2)"
   ],
   "metadata": {
    "collapsed": false,
    "ExecuteTime": {
     "start_time": "2023-07-24T19:03:51.036689Z",
     "end_time": "2023-07-24T19:03:51.050687Z"
    }
   }
  },
  {
   "cell_type": "code",
   "execution_count": 21,
   "outputs": [
    {
     "data": {
      "text/plain": "tensor([[[9.4592e-39, 1.0102e-38],\n         [2.9389e-39, 1.0194e-38],\n         [1.0102e-38, 9.2755e-39],\n         [1.0102e-38, 9.0919e-39]],\n\n        [[1.0653e-38, 1.0561e-38],\n         [9.3674e-39, 1.0469e-38],\n         [2.9389e-39, 1.0745e-38],\n         [9.4592e-39, 9.3674e-39]],\n\n        [[9.5512e-39, 1.0653e-38],\n         [1.0928e-38, 1.0469e-38],\n         [9.2755e-39, 1.5414e-43],\n         [0.0000e+00, 0.0000e+00]]])"
     },
     "execution_count": 21,
     "metadata": {},
     "output_type": "execute_result"
    }
   ],
   "source": [
    "test"
   ],
   "metadata": {
    "collapsed": false,
    "ExecuteTime": {
     "start_time": "2023-07-24T19:03:51.659690Z",
     "end_time": "2023-07-24T19:03:51.671686Z"
    }
   }
  },
  {
   "cell_type": "code",
   "execution_count": 1,
   "outputs": [],
   "source": [
    "from privacyflow.preprocessing import sleep_preprocess\n",
    "sleep_preprocess.preprocess_sleep_data()"
   ],
   "metadata": {
    "collapsed": false,
    "ExecuteTime": {
     "start_time": "2023-07-29T10:06:09.490032Z",
     "end_time": "2023-07-29T10:06:10.274280Z"
    }
   }
  },
  {
   "cell_type": "code",
   "execution_count": 2,
   "outputs": [
    {
     "data": {
      "text/plain": "     Gender  Age  Sleep Duration  Quality of Sleep  Physical Activity Level  \\\n0         1   38             7.1                 8                      6.0   \n1         1   52             8.4                 9                      3.0   \n2         0   33             6.0                 6                      3.0   \n3         0   38             7.1                 8                      6.0   \n4         1   39             8.0                 9                      8.0   \n..      ...  ...             ...               ...                      ...   \n297       0   33             6.1                 6                      3.0   \n298       0   31             6.1                 6                      3.0   \n299       1   49             6.2                 6                      9.0   \n300       0   39             7.2                 8                      6.0   \n301       1   59             8.1                 9                      7.5   \n\n     Stress Level  BMI Category  Heart Rate  Daily Steps  Sleep Disorder  \\\n0               4             0          68          7.0               0   \n1               3             0          65          5.0               0   \n2               8             0          72          5.0               0   \n3               5             0          68          8.0               0   \n4               3             1          67          7.5               0   \n..            ...           ...         ...          ...             ...   \n297             8             0          72          5.0               0   \n298             8             0          72          5.0               0   \n299             8             1          75         10.0               0   \n300             5             0          68          8.0               0   \n301             3             1          68          7.0               0   \n\n     Avg Wage  Blood Pressure - systolic  Blood Pressure - diastolic  \n0          85                        115                          75  \n1         107                        125                          80  \n2         225                        125                          80  \n3         160                        130                          85  \n4          85                        115                          78  \n..        ...                        ...                         ...  \n297       225                        125                          80  \n298       225                        125                          80  \n299        90                        140                          95  \n300       160                        130                          85  \n301        90                        140                          95  \n\n[302 rows x 13 columns]",
      "text/html": "<div>\n<style scoped>\n    .dataframe tbody tr th:only-of-type {\n        vertical-align: middle;\n    }\n\n    .dataframe tbody tr th {\n        vertical-align: top;\n    }\n\n    .dataframe thead th {\n        text-align: right;\n    }\n</style>\n<table border=\"1\" class=\"dataframe\">\n  <thead>\n    <tr style=\"text-align: right;\">\n      <th></th>\n      <th>Gender</th>\n      <th>Age</th>\n      <th>Sleep Duration</th>\n      <th>Quality of Sleep</th>\n      <th>Physical Activity Level</th>\n      <th>Stress Level</th>\n      <th>BMI Category</th>\n      <th>Heart Rate</th>\n      <th>Daily Steps</th>\n      <th>Sleep Disorder</th>\n      <th>Avg Wage</th>\n      <th>Blood Pressure - systolic</th>\n      <th>Blood Pressure - diastolic</th>\n    </tr>\n  </thead>\n  <tbody>\n    <tr>\n      <th>0</th>\n      <td>1</td>\n      <td>38</td>\n      <td>7.1</td>\n      <td>8</td>\n      <td>6.0</td>\n      <td>4</td>\n      <td>0</td>\n      <td>68</td>\n      <td>7.0</td>\n      <td>0</td>\n      <td>85</td>\n      <td>115</td>\n      <td>75</td>\n    </tr>\n    <tr>\n      <th>1</th>\n      <td>1</td>\n      <td>52</td>\n      <td>8.4</td>\n      <td>9</td>\n      <td>3.0</td>\n      <td>3</td>\n      <td>0</td>\n      <td>65</td>\n      <td>5.0</td>\n      <td>0</td>\n      <td>107</td>\n      <td>125</td>\n      <td>80</td>\n    </tr>\n    <tr>\n      <th>2</th>\n      <td>0</td>\n      <td>33</td>\n      <td>6.0</td>\n      <td>6</td>\n      <td>3.0</td>\n      <td>8</td>\n      <td>0</td>\n      <td>72</td>\n      <td>5.0</td>\n      <td>0</td>\n      <td>225</td>\n      <td>125</td>\n      <td>80</td>\n    </tr>\n    <tr>\n      <th>3</th>\n      <td>0</td>\n      <td>38</td>\n      <td>7.1</td>\n      <td>8</td>\n      <td>6.0</td>\n      <td>5</td>\n      <td>0</td>\n      <td>68</td>\n      <td>8.0</td>\n      <td>0</td>\n      <td>160</td>\n      <td>130</td>\n      <td>85</td>\n    </tr>\n    <tr>\n      <th>4</th>\n      <td>1</td>\n      <td>39</td>\n      <td>8.0</td>\n      <td>9</td>\n      <td>8.0</td>\n      <td>3</td>\n      <td>1</td>\n      <td>67</td>\n      <td>7.5</td>\n      <td>0</td>\n      <td>85</td>\n      <td>115</td>\n      <td>78</td>\n    </tr>\n    <tr>\n      <th>...</th>\n      <td>...</td>\n      <td>...</td>\n      <td>...</td>\n      <td>...</td>\n      <td>...</td>\n      <td>...</td>\n      <td>...</td>\n      <td>...</td>\n      <td>...</td>\n      <td>...</td>\n      <td>...</td>\n      <td>...</td>\n      <td>...</td>\n    </tr>\n    <tr>\n      <th>297</th>\n      <td>0</td>\n      <td>33</td>\n      <td>6.1</td>\n      <td>6</td>\n      <td>3.0</td>\n      <td>8</td>\n      <td>0</td>\n      <td>72</td>\n      <td>5.0</td>\n      <td>0</td>\n      <td>225</td>\n      <td>125</td>\n      <td>80</td>\n    </tr>\n    <tr>\n      <th>298</th>\n      <td>0</td>\n      <td>31</td>\n      <td>6.1</td>\n      <td>6</td>\n      <td>3.0</td>\n      <td>8</td>\n      <td>0</td>\n      <td>72</td>\n      <td>5.0</td>\n      <td>0</td>\n      <td>225</td>\n      <td>125</td>\n      <td>80</td>\n    </tr>\n    <tr>\n      <th>299</th>\n      <td>1</td>\n      <td>49</td>\n      <td>6.2</td>\n      <td>6</td>\n      <td>9.0</td>\n      <td>8</td>\n      <td>1</td>\n      <td>75</td>\n      <td>10.0</td>\n      <td>0</td>\n      <td>90</td>\n      <td>140</td>\n      <td>95</td>\n    </tr>\n    <tr>\n      <th>300</th>\n      <td>0</td>\n      <td>39</td>\n      <td>7.2</td>\n      <td>8</td>\n      <td>6.0</td>\n      <td>5</td>\n      <td>0</td>\n      <td>68</td>\n      <td>8.0</td>\n      <td>0</td>\n      <td>160</td>\n      <td>130</td>\n      <td>85</td>\n    </tr>\n    <tr>\n      <th>301</th>\n      <td>1</td>\n      <td>59</td>\n      <td>8.1</td>\n      <td>9</td>\n      <td>7.5</td>\n      <td>3</td>\n      <td>1</td>\n      <td>68</td>\n      <td>7.0</td>\n      <td>0</td>\n      <td>90</td>\n      <td>140</td>\n      <td>95</td>\n    </tr>\n  </tbody>\n</table>\n<p>302 rows × 13 columns</p>\n</div>"
     },
     "execution_count": 2,
     "metadata": {},
     "output_type": "execute_result"
    }
   ],
   "source": [
    "import pandas as pd\n",
    "from privacyflow.configs import path_configs\n",
    "pd.read_csv(path_configs.SLEEP_DATA_PREP_TRAIN)"
   ],
   "metadata": {
    "collapsed": false,
    "ExecuteTime": {
     "start_time": "2023-07-29T10:06:10.274280Z",
     "end_time": "2023-07-29T10:06:10.305525Z"
    }
   }
  },
  {
   "cell_type": "code",
   "execution_count": 1,
   "outputs": [],
   "source": [
    "#Own Code\n",
    "from privacyflow.datasets import sleep_dataset\n",
    "train_data = sleep_dataset.SleepDataset(mode = \"train\")\n",
    "tst_inp, tst_lbl = train_data[0]"
   ],
   "metadata": {
    "collapsed": false,
    "ExecuteTime": {
     "start_time": "2023-07-30T09:07:52.051552Z",
     "end_time": "2023-07-30T09:07:53.840712Z"
    }
   }
  },
  {
   "cell_type": "code",
   "execution_count": 2,
   "outputs": [
    {
     "data": {
      "text/plain": "tensor([  1.0000,  38.0000,   7.1000,   8.0000,   6.0000,   4.0000,   0.0000,\n         68.0000,   7.0000,  85.0000, 115.0000,  75.0000], dtype=torch.float64)"
     },
     "execution_count": 2,
     "metadata": {},
     "output_type": "execute_result"
    }
   ],
   "source": [
    "tst_inp"
   ],
   "metadata": {
    "collapsed": false,
    "ExecuteTime": {
     "start_time": "2023-07-30T09:07:53.840712Z",
     "end_time": "2023-07-30T09:07:53.856342Z"
    }
   }
  },
  {
   "cell_type": "code",
   "execution_count": 3,
   "outputs": [
    {
     "data": {
      "text/plain": "tensor([1, 0, 0])"
     },
     "execution_count": 3,
     "metadata": {},
     "output_type": "execute_result"
    }
   ],
   "source": [
    "tst_lbl"
   ],
   "metadata": {
    "collapsed": false,
    "ExecuteTime": {
     "start_time": "2023-07-30T09:07:53.856342Z",
     "end_time": "2023-07-30T09:07:53.903210Z"
    }
   }
  },
  {
   "cell_type": "code",
   "execution_count": null,
   "outputs": [],
   "source": [],
   "metadata": {
    "collapsed": false
   }
  }
 ],
 "metadata": {
  "kernelspec": {
   "display_name": "Python 3",
   "language": "python",
   "name": "python3"
  },
  "language_info": {
   "codemirror_mode": {
    "name": "ipython",
    "version": 2
   },
   "file_extension": ".py",
   "mimetype": "text/x-python",
   "name": "python",
   "nbconvert_exporter": "python",
   "pygments_lexer": "ipython2",
   "version": "2.7.6"
  }
 },
 "nbformat": 4,
 "nbformat_minor": 0
}
