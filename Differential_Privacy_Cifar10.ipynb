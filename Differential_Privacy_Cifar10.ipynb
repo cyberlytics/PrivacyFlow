{
 "cells": [
  {
   "cell_type": "markdown",
   "source": [
    "# Differential Privacy with CIFAR 10 Dataset"
   ],
   "metadata": {
    "collapsed": false
   },
   "id": "9c73f8cb48a64a60"
  },
  {
   "cell_type": "markdown",
   "source": [
    "## Settings und Imports"
   ],
   "metadata": {
    "collapsed": false
   },
   "id": "374601157dbc1f8e"
  },
  {
   "cell_type": "code",
   "execution_count": null,
   "outputs": [],
   "source": [
    "# suppress warnings\n",
    "import warnings\n",
    "\n",
    "import numpy as np\n",
    "\n",
    "warnings.filterwarnings('ignore')\n",
    "\n",
    "#autoreload other packages when code changed\n",
    "%load_ext autoreload\n",
    "%autoreload 2"
   ],
   "metadata": {
    "collapsed": false
   },
   "id": "3e6bb3c902832164"
  },
  {
   "cell_type": "code",
   "execution_count": null,
   "outputs": [],
   "source": [
    "import torch\n",
    "\n",
    "from torch import nn\n",
    "from torch.utils.data import DataLoader\n",
    "import torchvision\n",
    "\n",
    "import opacus\n",
    "from opacus import PrivacyEngine\n",
    "from opacus.validators import ModuleValidator\n",
    "from opacus.utils.batch_memory_manager import BatchMemoryManager\n",
    "\n",
    "from tqdm.notebook import tqdm\n",
    "import gc\n",
    "import os"
   ],
   "metadata": {
    "collapsed": false
   },
   "id": "43da1d3fb09a3a87"
  },
  {
   "cell_type": "code",
   "execution_count": null,
   "outputs": [],
   "source": [
    "#Own Code\n",
    "from privacyflow.configs import path_configs\n",
    "from privacyflow.models import cifar_models"
   ],
   "metadata": {
    "collapsed": false
   },
   "id": "a824fbd38520b965"
  },
  {
   "cell_type": "code",
   "execution_count": null,
   "outputs": [],
   "source": [
    "#Check if GPU is available\n",
    "if torch.cuda.is_available():\n",
    "    print(\"GPU will be used\")\n",
    "    device = torch.device('cuda')\n",
    "else:\n",
    "    print(\"No GPU available\")\n",
    "    device = torch.device('cpu')"
   ],
   "metadata": {
    "collapsed": false
   },
   "id": "2e773f6c401c4697"
  },
  {
   "cell_type": "markdown",
   "source": [
    "## Data"
   ],
   "metadata": {
    "collapsed": false
   },
   "id": "7e8784977074f972"
  },
  {
   "cell_type": "code",
   "execution_count": null,
   "outputs": [],
   "source": [
    "train_transform = torchvision.transforms.Compose([\n",
    "    torchvision.transforms.AutoAugment(),\n",
    "    torchvision.transforms.ToTensor(),\n",
    "])\n",
    "\n",
    "test_transform = torchvision.transforms.Compose([\n",
    "    torchvision.transforms.ToTensor()\n",
    "])\n",
    "\n",
    "\n",
    "cifar10_data_train = torchvision.datasets.CIFAR10(root=path_configs.CIFAR_FOLDER_PATH, \n",
    "                                                    transform=train_transform,\n",
    "                                                    train=True, \n",
    "                                                    download=True)\n",
    "\n",
    "cifar10_data_test = torchvision.datasets.CIFAR10(root=path_configs.CIFAR_FOLDER_PATH, \n",
    "                                                   transform=test_transform,\n",
    "                                                   train=False, \n",
    "                                                   download=True)\n",
    "\n",
    "train_dataloader = DataLoader(cifar10_data_train,\n",
    "                              batch_size=64,\n",
    "                              num_workers=4,\n",
    "                              shuffle=True)\n",
    "\n",
    "test_dataloader = DataLoader(cifar10_data_test,\n",
    "                              batch_size=64,\n",
    "                              num_workers=8,\n",
    "                              shuffle=False)"
   ],
   "metadata": {
    "collapsed": false
   },
   "id": "fd24ce250c447875"
  },
  {
   "cell_type": "markdown",
   "source": [
    "## Models"
   ],
   "metadata": {
    "collapsed": false
   },
   "id": "c16b8bceb307a210"
  },
  {
   "cell_type": "markdown",
   "source": [
    "Train base version of CIFAR-10 model without DPSGD"
   ],
   "metadata": {
    "collapsed": false
   },
   "id": "ae5d38bf976f4b60"
  },
  {
   "cell_type": "code",
   "execution_count": null,
   "outputs": [],
   "source": [
    "#Train Base Version of CIFAR Model\n",
    "model_base = cifar_models.CifarCNNModel(output_size=10).to(device)\n",
    "criterion = nn.NLLLoss()\n",
    "optimizer = torch.optim.Adam(model_base.parameters(), lr=0.01)\n",
    "\n",
    "for epoch in range(15):\n",
    "        model_base.train()\n",
    "        epoch_loss = 0.0\n",
    "        for model_inputs, labels in train_dataloader:\n",
    "            model_inputs = model_inputs.to(device)\n",
    "            labels = labels.to(device)\n",
    "            optimizer.zero_grad()\n",
    "            model_outputs = model_base(model_inputs)\n",
    "            loss = criterion(model_outputs, labels)\n",
    "            loss.backward()\n",
    "            optimizer.step()\n",
    "            epoch_loss += loss.item()\n",
    "        print(f\"Epoch: {epoch + 1:2}, Train Loss: {epoch_loss / len(train_dataloader):.5f}\")\n",
    "#torch.save(model_base.state_dict(), f\"{path_configs.MODELS_TRAINED_BASE_PATH}/cifar_10_base.pl\")"
   ],
   "metadata": {
    "collapsed": false
   },
   "id": "f719458adb636cf3"
  },
  {
   "cell_type": "code",
   "execution_count": null,
   "outputs": [],
   "source": [
    "@torch.no_grad()\n",
    "def test_model(model:nn.Module,\n",
    "               test_dl:torch.utils.data.DataLoader = test_dataloader,\n",
    "               len_test_dataset:int = len(cifar10_data_test)):\n",
    "    model.eval()\n",
    "    num_corrects = 0\n",
    "    for model_inputs, labels in test_dl:\n",
    "        model_inputs = model_inputs.to(device)\n",
    "        labels = labels.to(device)\n",
    "        model_outputs = model(model_inputs)\n",
    "        \n",
    "        num_corrects += int((torch.argmax(model_outputs,dim=-1) == labels).sum())\n",
    "    print(f\"Test Accuracy: {num_corrects / len_test_dataset}\")"
   ],
   "metadata": {
    "collapsed": false
   },
   "id": "4be71a11404076"
  },
  {
   "cell_type": "code",
   "execution_count": null,
   "outputs": [],
   "source": [
    "test_model(model_base)"
   ],
   "metadata": {
    "collapsed": false
   },
   "id": "834cbfb35fae1ff5"
  },
  {
   "cell_type": "markdown",
   "source": [
    "## Models - DPSGD"
   ],
   "metadata": {
    "collapsed": false
   },
   "id": "34f9ee7b86edd67e"
  },
  {
   "cell_type": "markdown",
   "source": [
    "The following cells contains code for training and testing multiple CIFAR-10 models with different parameter combinations"
   ],
   "metadata": {
    "collapsed": false
   },
   "id": "8cdd04f039e48775"
  },
  {
   "cell_type": "code",
   "execution_count": null,
   "outputs": [],
   "source": [
    "def train_model_dpsgd(model:nn.Module,\n",
    "                criterion:nn.Module,\n",
    "                optimizer: opacus.optimizers.optimizer.DPOptimizer,\n",
    "                train_dl:torch.utils.data.DataLoader,\n",
    "                privacy_engine:opacus.PrivacyEngine,\n",
    "                epochs:int=10,\n",
    "                max_epsilon:int=10,\n",
    "                delta:float = 1e-5,\n",
    "                log_level:str = 'info'):\n",
    "    epsilon_reached = False\n",
    "    model.to(device)\n",
    "    model.train()\n",
    "    for epoch in tqdm(range(epochs)):\n",
    "        if epsilon_reached:\n",
    "            break\n",
    "        epoch_loss = 0.0\n",
    "        #Train epoch\n",
    "        for model_inputs, labels in train_dl:\n",
    "            model_inputs = model_inputs.to(device)\n",
    "            labels = labels.to(device)\n",
    "            optimizer.zero_grad()\n",
    "            model_outputs = model(model_inputs)\n",
    "            loss = criterion(model_outputs, labels)\n",
    "            loss.backward()\n",
    "            optimizer.step()\n",
    "            epoch_loss += loss.item()\n",
    "            if max_epsilon < privacy_engine.accountant.get_epsilon(delta=delta):\n",
    "                print(f\"ε Value {max_epsilon:2} reached in Epoch {epoch+1:2}\")\n",
    "                epsilon_reached = True\n",
    "                break\n",
    "                \n",
    "        #print logs\n",
    "        print(f\"Finished Training Epoch: {epoch + 1:2}\")\n",
    "        if log_level.lower() == \"debug\":\n",
    "            print(f\"ε:{privacy_engine.accountant.get_epsilon(delta=delta):.5f}\")\n",
    "            if not epsilon_reached:\n",
    "                print(f\"Train Loss: {epoch_loss / len(train_dl):.5f}\")"
   ],
   "metadata": {
    "collapsed": false
   },
   "id": "2083f7bcd0d13e7e"
  },
  {
   "cell_type": "code",
   "execution_count": 1,
   "outputs": [],
   "source": [
    "#CIFAR-10 DPSGD model parameters\n",
    "batch_size = 512\n",
    "delta = 1e-5\n",
    "clipping_norm = 1e-5\n",
    "target_epochs = [1,5,10,20,30,50]\n",
    "target_epsilons = [1,5,10,20,30,50]"
   ],
   "metadata": {
    "collapsed": false,
    "ExecuteTime": {
     "end_time": "2023-09-29T12:17:27.314198900Z",
     "start_time": "2023-09-29T12:17:27.298576300Z"
    }
   },
   "id": "cda43340bf0c72fa"
  },
  {
   "cell_type": "code",
   "execution_count": null,
   "outputs": [],
   "source": [
    "train_transform_dpsgd = torchvision.transforms.Compose([\n",
    "    torchvision.transforms.ToTensor(),\n",
    "])\n",
    "\n",
    "\n",
    "cifar10_data_train = torchvision.datasets.CIFAR10(root=path_configs.CIFAR_FOLDER_PATH, \n",
    "                                                    transform=train_transform_dpsgd,\n",
    "                                                    train=True, \n",
    "                                                    download=True)\n",
    "\n",
    "train_dataloader_dpsgd = DataLoader(cifar10_data_train,\n",
    "                              batch_size=batch_size,\n",
    "                              num_workers=0,\n",
    "                              shuffle=True)"
   ],
   "metadata": {
    "collapsed": false
   },
   "id": "7c8ac3381d11d91"
  },
  {
   "cell_type": "code",
   "execution_count": null,
   "outputs": [],
   "source": [
    "for target_epsilon in target_epsilons:\n",
    "    for num_epochs in target_epochs:\n",
    "        model_dpsgd = cifar_models.CifarCNNModel()\n",
    "        model_dpsgd = ModuleValidator.fix(model_dpsgd)\n",
    "        criterion =  nn.NLLLoss()\n",
    "        optimizer = torch.optim.Adam(model_dpsgd.parameters(), lr=0.01)\n",
    "        \n",
    "        \n",
    "        privacy_engine = PrivacyEngine(accountant='rdp')\n",
    "        model_dpsgd, optimizer, train_dl = privacy_engine.make_private_with_epsilon(\n",
    "            module=model_dpsgd,\n",
    "            optimizer=optimizer,\n",
    "            data_loader=train_dataloader_dpsgd,\n",
    "            epochs=num_epochs,\n",
    "            target_epsilon=target_epsilon,\n",
    "            target_delta=delta,\n",
    "            max_grad_norm=clipping_norm,\n",
    "        )\n",
    "        print(f\"Training CNN Model on CIFAR Dataset\\nNum Epochs = {num_epochs}\\ntarget_epsilon={target_epsilon}\\nNoise Mult={optimizer.noise_multiplier:.4f}\")\n",
    "        torch.cuda.empty_cache()\n",
    "        gc.collect() \n",
    "        train_model_dpsgd(model=model_dpsgd,\n",
    "                          criterion=criterion,\n",
    "                          optimizer=optimizer,\n",
    "                          train_dl=train_dl,\n",
    "                          privacy_engine=privacy_engine,\n",
    "                          max_epsilon=target_epsilon,\n",
    "                          delta=delta,\n",
    "                          epochs=num_epochs,\n",
    "                          log_level=\"info\")\n",
    "\n",
    "        #torch.save(model_dpsgd._module.state_dict(), f\"{path_configs.MODELS_TRAINED_BASE_PATH}/cifar_epsilon{target_epsilon}_batch{batch_size}.pl\")\n",
    "        torch.cuda.empty_cache()\n",
    "        gc.collect()\n",
    "        print(f\"Test CNN Model on CIFAR Dataset, trained with epochs={num_epochs:2}, batch_size={batch_size}, clipping-norm={clipping_norm} and ε={target_epsilon:2}\")\n",
    "        test_model(model_dpsgd)\n",
    "        print(\"-----------------------------------------------\")"
   ],
   "metadata": {
    "collapsed": false
   },
   "id": "c302da41e39382a8"
  },
  {
   "cell_type": "markdown",
   "source": [
    "## Non working examples"
   ],
   "metadata": {
    "collapsed": false
   },
   "id": "4131c89398b27104"
  },
  {
   "cell_type": "markdown",
   "source": [
    "The foloowing cell contains code, for the adaptive clipping norm. \n",
    "This code throws an exception due to failed checks from the PyTorch Framework"
   ],
   "metadata": {
    "collapsed": false
   },
   "id": "dd1a45b8de26e6b6"
  },
  {
   "cell_type": "code",
   "execution_count": null,
   "outputs": [],
   "source": [
    "from opacus.optimizers import AdaClipDPOptimizer\n",
    "\n",
    "delta = 1e-5\n",
    "target_epsilon = 10\n",
    "num_epochs= 3\n",
    "\n",
    "model_dpsgd = cifar_models.CifarCNNModel()\n",
    "model_dpsgd = ModuleValidator.fix(model_dpsgd)\n",
    "criterion =  nn.NLLLoss()\n",
    "optimizer = torch.optim.Adam(model_dpsgd.parameters(), lr=0.01)\n",
    "\n",
    "\n",
    "sample_rate = 1/len(train_dataloader_dpsgd)\n",
    "expected_batch_size = train_dataloader_dpsgd.batch_size\n",
    "\n",
    "privacy_engine = PrivacyEngine(accountant='rdp')\n",
    "model_dpsgd, optimizer, train_dl = privacy_engine.make_private_with_epsilon(\n",
    "    module=model_dpsgd,\n",
    "    optimizer=optimizer,\n",
    "    data_loader=train_dataloader_dpsgd,\n",
    "    epochs=num_epochs,\n",
    "    target_epsilon=target_epsilon,\n",
    "    target_delta=delta,\n",
    "    max_grad_norm=1.0\n",
    ")\n",
    "\n",
    "optimizer_ada = AdaClipDPOptimizer(\n",
    "    optimizer=optimizer,\n",
    "    noise_multiplier=1.0,\n",
    "    max_grad_norm=optimizer.max_grad_norm,\n",
    "    expected_batch_size=train_dataloader_dpsgd.batch_size,\n",
    "    target_unclipped_quantile=0.4,\n",
    "    clipbound_learning_rate=0.01,\n",
    "    max_clipbound=1.0,\n",
    "    min_clipbound=0.0001,\n",
    "    unclipped_num_std=1.0\n",
    ")\n",
    "\n",
    "train_model_dpsgd(model=model_dpsgd,\n",
    "                  criterion=criterion,\n",
    "                  optimizer=optimizer_ada,\n",
    "                  train_dl=train_dl,\n",
    "                  privacy_engine=privacy_engine,\n",
    "                  max_epsilon=target_epsilon,\n",
    "                  delta=delta,\n",
    "                  epochs=num_epochs+2,\n",
    "                  log_level=\"debug\")"
   ],
   "metadata": {
    "collapsed": false
   },
   "id": "6d66f27f3e4eb0c5"
  },
  {
   "cell_type": "code",
   "execution_count": null,
   "outputs": [],
   "source": [],
   "metadata": {
    "collapsed": false
   },
   "id": "cf7806eb0e2f1b28"
  }
 ],
 "metadata": {
  "kernelspec": {
   "display_name": "Python 3",
   "language": "python",
   "name": "python3"
  },
  "language_info": {
   "codemirror_mode": {
    "name": "ipython",
    "version": 2
   },
   "file_extension": ".py",
   "mimetype": "text/x-python",
   "name": "python",
   "nbconvert_exporter": "python",
   "pygments_lexer": "ipython2",
   "version": "2.7.6"
  }
 },
 "nbformat": 4,
 "nbformat_minor": 5
}
